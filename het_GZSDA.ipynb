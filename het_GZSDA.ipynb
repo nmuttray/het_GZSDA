{
 "cells": [
  {
   "cell_type": "markdown",
   "id": "ae11e01f-180a-46bb-a318-65e425dc3ca5",
   "metadata": {},
   "source": [
    "This is an exemplary application of the use of CSDPP by Wang et al. for heterogeneous generalized zero-shot domain adaptation."
   ]
  },
  {
   "cell_type": "code",
   "execution_count": 1,
   "id": "dc0dc716-3973-434e-9c53-96240103b885",
   "metadata": {},
   "outputs": [],
   "source": [
    "import scipy.io\n",
    "from collections import Counter\n",
    "import numpy as pd\n",
    "from sklearn.model_selection import train_test_split\n",
    "from src.pyth.CDSPP import *\n",
    "from src.pyth.preprocessing import *\n",
    "from src.pyth.evaluating import *\n",
    "import random"
   ]
  },
  {
   "cell_type": "markdown",
   "id": "af308585-1efc-4adf-80ad-f1e32a7a2210",
   "metadata": {},
   "source": [
    "Here, the OfficeHome data set is chosen."
   ]
  },
  {
   "cell_type": "code",
   "execution_count": 2,
   "id": "41fe136f-1bb0-4286-b2fd-386abef2af2a",
   "metadata": {},
   "outputs": [],
   "source": [
    "PATH_source = \"datasets/OfficeHome/OfficeHome-RealWorld-resnet50-noft.mat\"\n",
    "PATH_target = \"datasets/OfficeHome/OfficeHome-Art-vgg16-noft.mat\"\n",
    "source = scipy.io.loadmat(PATH_source)\n",
    "target = scipy.io.loadmat(PATH_target)\n",
    "X_s = source['resnet50_features'].reshape(source['resnet50_features'].shape[0], source['resnet50_features'].shape[1])\n",
    "y_s = source['labels'][0]\n",
    "X_t = target['vgg16_features']\n",
    "y_t = target['labels'][0]\n",
    "X_train, X_test, y_train, y_test = train_test_split(X_t, y_t, test_size=0.5)"
   ]
  },
  {
   "cell_type": "markdown",
   "id": "5abb6dfb-8b2a-462d-83e3-7d93852b01bd",
   "metadata": {},
   "source": [
    "30 random classes are masked from the target and used for zero-shot recognition. The CDSPP class expects data in a (features, sample) format!"
   ]
  },
  {
   "cell_type": "code",
   "execution_count": 6,
   "id": "a7868890-db99-429c-82c2-75825a6ff6d6",
   "metadata": {},
   "outputs": [
    {
     "name": "stdout",
     "output_type": "stream",
     "text": [
      "H: 0.4720642206921562, Acc known: 0.6300832105832553, Acc unknwon: 0.3774126497758397\n"
     ]
    }
   ],
   "source": [
    "unknown = random.sample(range(65), 30)\n",
    "X_seen, X_unseen, y_seen, y_unseen = split_masked_cells(X_train, y_train, unknown)\n",
    "model = CDSPP(X_s.T, y_s, 500, 65, unknown)\n",
    "model.fit_semi_supervised(X_seen.T, X_test.T, y_seen, part=0.75)\n",
    "pred = model.predict(X_test.T)\n",
    "res = h_score(y_test, pred, unknown)\n",
    "print(\"H: \"+str(res[0])+\", Acc known: \"+str(res[1])+\", Acc unknwon: \"+str(res[2]))    "
   ]
  }
 ],
 "metadata": {
  "kernelspec": {
   "display_name": "Python 3 (ipykernel)",
   "language": "python",
   "name": "python3"
  },
  "language_info": {
   "codemirror_mode": {
    "name": "ipython",
    "version": 3
   },
   "file_extension": ".py",
   "mimetype": "text/x-python",
   "name": "python",
   "nbconvert_exporter": "python",
   "pygments_lexer": "ipython3",
   "version": "3.10.5"
  }
 },
 "nbformat": 4,
 "nbformat_minor": 5
}
