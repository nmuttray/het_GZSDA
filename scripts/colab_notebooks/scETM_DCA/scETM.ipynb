{
  "nbformat": 4,
  "nbformat_minor": 0,
  "metadata": {
    "colab": {
      "provenance": []
    },
    "kernelspec": {
      "name": "python3",
      "display_name": "Python 3"
    },
    "language_info": {
      "name": "python"
    },
    "accelerator": "GPU"
  },
  "cells": [
    {
      "cell_type": "code",
      "execution_count": null,
      "metadata": {
        "id": "M494iKOyh18w"
      },
      "outputs": [],
      "source": [
        "!pip install scETM"
      ]
    },
    {
      "cell_type": "code",
      "source": [
        "import anndata as ad\n",
        "import pandas as pd\n",
        "from scETM import scETM, UnsupervisedTrainer"
      ],
      "metadata": {
        "id": "cbZKmMsTpcha"
      },
      "execution_count": null,
      "outputs": []
    },
    {
      "cell_type": "code",
      "source": [
        "from google.colab import drive\n",
        "drive.mount('/content/drive')"
      ],
      "metadata": {
        "id": "aYPM57uOpWX6"
      },
      "execution_count": null,
      "outputs": []
    },
    {
      "cell_type": "code",
      "source": [
        "def run_scETM(PATH_in, PATH_out, n_epochs = 6000):\n",
        "  adata = ad.read_h5ad(PATH_in)\n",
        "  model = scETM(adata.n_vars, 1) \n",
        "  trainer = UnsupervisedTrainer(model, adata, test_ratio=0.1)\n",
        "  trainer.train(n_epochs = n_epochs, save_model_ckpt = False, eval = False)\n",
        "  model.get_all_embeddings_and_nll(adata)\n",
        "  embedding = adata.obsm[\"delta\"]\n",
        "  cells = adata.obs_names\n",
        "  emb_df = pd.DataFrame(embedding, cells)\n",
        "  emb_df.to_csv(PATH_out)\n",
        "  return"
      ],
      "metadata": {
        "id": "Q5cv0zeDjXrV"
      },
      "execution_count": null,
      "outputs": []
    },
    {
      "cell_type": "markdown",
      "source": [
        "Number of iteration is set in accordance to the recommentdation on https://github.com/hui2000ji/scETM\n"
      ],
      "metadata": {
        "id": "5Q5QCxwTLpK6"
      }
    },
    {
      "cell_type": "code",
      "source": [
        "run_scETM(\"/content/drive/MyDrive/data/pancreas_mouse_clean.h5ad\", \"/content/drive/MyDrive/data/pancreas_mouse_scetm.csv\", 6000)"
      ],
      "metadata": {
        "id": "jxCkpigRtzkE"
      },
      "execution_count": null,
      "outputs": []
    },
    {
      "cell_type": "code",
      "source": [
        "run_scETM(\"/content/drive/MyDrive/data/pancreas_human_clean.h5ad\", \"/content/drive/MyDrive/data/pancreas_human_scetm.csv\", 1500)"
      ],
      "metadata": {
        "id": "A_lDIxmmuvnK"
      },
      "execution_count": null,
      "outputs": []
    },
    {
      "cell_type": "code",
      "source": [
        "run_scETM(\"/content/drive/MyDrive/data/bm_mouse_clean.h5ad\", \"/content/drive/MyDrive/data/bm_mouse_scetm.csv\", 2000)"
      ],
      "metadata": {
        "id": "pQSYf4zNuwIS"
      },
      "execution_count": null,
      "outputs": []
    },
    {
      "cell_type": "code",
      "source": [
        "run_scETM(\"/content/drive/MyDrive/data/bm_human_clean.h5ad\", \"/content/drive/MyDrive/data/bm_human_scetm.csv\", 1500)"
      ],
      "metadata": {
        "id": "Mj2UZjxEuwhy"
      },
      "execution_count": null,
      "outputs": []
    },
    {
      "cell_type": "code",
      "source": [
        "run_scETM(\"/content/drive/MyDrive/data/brain_mouse_clean.h5ad\", \"/content/drive/MyDrive/data/brain_mouse_scetm.csv\", 800)"
      ],
      "metadata": {
        "id": "yoLawiaGuw66"
      },
      "execution_count": null,
      "outputs": []
    },
    {
      "cell_type": "code",
      "source": [
        "run_scETM(\"/content/drive/MyDrive/data/brain_human_clean.h5ad\", \"/content/drive/MyDrive/data/brain_human_scetm.csv\", 1500)"
      ],
      "metadata": {
        "id": "cEV0VBCFuxPK"
      },
      "execution_count": null,
      "outputs": []
    }
  ]
}