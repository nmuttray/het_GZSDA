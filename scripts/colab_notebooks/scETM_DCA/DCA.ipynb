{
  "cells": [
    {
      "cell_type": "code",
      "execution_count": null,
      "metadata": {
        "id": "rIGdBmp0-23m"
      },
      "outputs": [],
      "source": [
        "pip install dca"
      ]
    },
    {
      "cell_type": "code",
      "execution_count": null,
      "metadata": {
        "id": "SBN5UcRDEZOh"
      },
      "outputs": [],
      "source": [
        "pip install anndata==0.8.0"
      ]
    },
    {
      "cell_type": "code",
      "execution_count": null,
      "metadata": {
        "id": "ofX0y4XuHjTE"
      },
      "outputs": [],
      "source": [
        "pip install -I pyyaml==4.2b4"
      ]
    },
    {
      "cell_type": "code",
      "execution_count": null,
      "metadata": {
        "id": "vlwZEHTyBHgY"
      },
      "outputs": [],
      "source": [
        "pip install scikit-misc"
      ]
    },
    {
      "cell_type": "code",
      "execution_count": null,
      "metadata": {
        "id": "f2HHhVEIzJqr"
      },
      "outputs": [],
      "source": [
        "import pandas as pd\n",
        "import anndata as ad\n",
        "import scanpy as sc\n",
        "from dca.api import dca\n",
        "import copy"
      ]
    },
    {
      "cell_type": "code",
      "execution_count": null,
      "metadata": {
        "colab": {
          "base_uri": "https://localhost:8080/"
        },
        "id": "Q5cv0zeDjXrV",
        "outputId": "4585330c-5633-467a-dbc6-9b816d5c1730"
      },
      "outputs": [
        {
          "name": "stdout",
          "output_type": "stream",
          "text": [
            "Mounted at /content/drive\n"
          ]
        }
      ],
      "source": [
        "from google.colab import drive\n",
        "drive.mount('/content/drive')"
      ]
    },
    {
      "cell_type": "code",
      "execution_count": null,
      "metadata": {
        "id": "if0JgQOfiRkf"
      },
      "outputs": [],
      "source": [
        "def denoise(PATH_in, PATH_out):\n",
        "  adata = ad.read_h5ad(PATH_in)\n",
        "  dca(adata,\n",
        "      mode='denoise',\n",
        "      ae_type='zinb',\n",
        "      normalize_per_cell=False,\n",
        "      scale=False,\n",
        "      log1p=False)\n",
        "  sc.pp.normalize_total(adata, target_sum=1e4)\n",
        "  sc.pp.log1p(adata)\n",
        "  sc.pp.highly_variable_genes(adata, min_mean=0.0125, max_mean=3, min_disp=0.5)\n",
        "  adata.raw = adata\n",
        "  adata = adata[:, adata.var.highly_variable]\n",
        "  sc.pp.scale(adata, max_value=10)\n",
        "  sc.pp.pca(adata, 50)\n",
        "  final_data = pd.DataFrame(adata.obsm[\"X_pca\"], index = adata.obs_names)\n",
        "  final_data.to_csv(PATH_out)\n",
        "  return"
      ]
    },
    {
      "cell_type": "code",
      "execution_count": null,
      "metadata": {
        "id": "DMUfKU2qLq29"
      },
      "outputs": [],
      "source": [
        "denoise(\"/content/drive/MyDrive/data/pancreas_mouse_clean.h5ad\",\n",
        "        \"/content/drive/MyDrive/data/pancreas_mouse_dca_pca.csv\")"
      ]
    },
    {
      "cell_type": "code",
      "execution_count": null,
      "metadata": {
        "colab": {
          "background_save": true
        },
        "id": "LSotMuKtAe-H"
      },
      "outputs": [],
      "source": [
        "denoise(\"/content/drive/MyDrive/data/pancreas_human_clean.h5ad\",\n",
        "        \"/content/drive/MyDrive/data/pancreas_human_dca_pca.csv\")"
      ]
    },
    {
      "cell_type": "code",
      "execution_count": null,
      "metadata": {
        "colab": {
          "background_save": true
        },
        "id": "9Na1_XLdAftG"
      },
      "outputs": [],
      "source": [
        "denoise(\"/content/drive/MyDrive/data/bm_mouse_clean.h5ad\",\n",
        "        \"/content/drive/MyDrive/data/bm_mouse_dca_pca.csv\")"
      ]
    },
    {
      "cell_type": "code",
      "execution_count": null,
      "metadata": {
        "colab": {
          "background_save": true
        },
        "id": "nlkqS32RAf9u"
      },
      "outputs": [],
      "source": [
        "denoise(\"/content/drive/MyDrive/data/bm_human_clean.h5ad\",\n",
        "        \"/content/drive/MyDrive/data/bm_human_dca_pca.csv\")"
      ]
    },
    {
      "cell_type": "code",
      "execution_count": null,
      "metadata": {
        "colab": {
          "background_save": true
        },
        "id": "HYRH4KCQAgM-"
      },
      "outputs": [],
      "source": [
        "denoise(\"/content/drive/MyDrive/data/brain_mouse_clean.h5ad\",\n",
        "        \"/content/drive/MyDrive/data/brain_mouse_dca_pca.csv\")"
      ]
    },
    {
      "cell_type": "code",
      "execution_count": null,
      "metadata": {
        "id": "dtSLZPQhAgbG"
      },
      "outputs": [],
      "source": [
        "denoise(\"/content/drive/MyDrive/data/brain_human_clean.h5ad\",\n",
        "        \"/content/drive/MyDrive/data/brain_human_dca_pca.csv\")"
      ]
    }
  ],
  "metadata": {
    "accelerator": "GPU",
    "colab": {
      "machine_shape": "hm",
      "provenance": []
    },
    "kernelspec": {
      "display_name": "Python 3",
      "name": "python3"
    },
    "language_info": {
      "name": "python"
    }
  },
  "nbformat": 4,
  "nbformat_minor": 0
}