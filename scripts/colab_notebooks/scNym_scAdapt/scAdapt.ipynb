{
  "nbformat": 4,
  "nbformat_minor": 0,
  "metadata": {
    "colab": {
      "provenance": []
    },
    "kernelspec": {
      "name": "python3",
      "display_name": "Python 3"
    },
    "language_info": {
      "name": "python"
    },
    "accelerator": "GPU",
    "gpuClass": "standard"
  },
  "cells": [
    {
      "cell_type": "code",
      "execution_count": null,
      "metadata": {
        "id": "Ux9oGk0T5XKN"
      },
      "outputs": [],
      "source": [
        "!pip install scanpy\n",
        "!pip install pytorch\n",
        "!pip install umap-learn\n",
        "!pip install universal-divergence\n",
        "!pip install easydl\n",
        "!pip install anndata==0.8.0"
      ]
    },
    {
      "cell_type": "code",
      "source": [
        "from google.colab import drive\n",
        "drive.mount('/content/drive')"
      ],
      "metadata": {
        "id": "G-1FDemw5eDp",
        "colab": {
          "base_uri": "https://localhost:8080/"
        },
        "outputId": "adf31965-71f4-461c-fa32-23cf9b15a3a3"
      },
      "execution_count": null,
      "outputs": [
        {
          "output_type": "stream",
          "name": "stdout",
          "text": [
            "Mounted at /content/drive\n"
          ]
        }
      ]
    },
    {
      "cell_type": "code",
      "source": [
        "%cd drive/MyDrive/scAdapt/scAdapt"
      ],
      "metadata": {
        "id": "6QGFaEj8EWfb",
        "colab": {
          "base_uri": "https://localhost:8080/"
        },
        "outputId": "4f4f54d5-baf5-4b0b-d240-258c77b070c4"
      },
      "execution_count": null,
      "outputs": [
        {
          "output_type": "stream",
          "name": "stdout",
          "text": [
            "/content/drive/MyDrive/scAdapt/scAdapt\n"
          ]
        }
      ]
    },
    {
      "cell_type": "code",
      "source": [
        "\n",
        "from itertools import product\n",
        "import matplotlib.pyplot as plt\n",
        "from sklearn.metrics import confusion_matrix, ConfusionMatrixDisplay\n",
        "import pandas as pd\n",
        "import scanpy as sc\n",
        "import anndata as ad\n",
        "import pandas as pd\n",
        "import numpy as np\n",
        "from scAdapt import scAdapt\n",
        "from config import *"
      ],
      "metadata": {
        "id": "80CkcTfi5jS_"
      },
      "execution_count": null,
      "outputs": []
    },
    {
      "cell_type": "markdown",
      "source": [
        "Run scAdapt unsupervised (modifications to config and scAdapt file necessary)"
      ],
      "metadata": {
        "id": "xvgWxXg5kmpK"
      }
    },
    {
      "cell_type": "code",
      "source": [
        "def prepare_and_run_scadapt(PATH_in, PATH_out):\n",
        "  \n",
        "  adata = ad.read_h5ad(PATH_in)\n",
        "  del adata.uns\n",
        "  data_set = {'features': adata.X, 'labels': adata.obs[\"cell_type\"].to_numpy(dtype='int32'),\n",
        "              'accessions' : adata.obs[\"domain\"].to_numpy(dtype='str')}\n",
        "  args.source_name = \"0\"\n",
        "  args.target_name = \"1\"\n",
        "  args.dataset_path = PATH_out\n",
        "  args.result_path = PATH_out\n",
        "  args.num_iterations = 10000\n",
        "  scAdapt(args=args, data_set=data_set)\n",
        "\n",
        "  return"
      ],
      "metadata": {
        "id": "NUXjia5g5iDx"
      },
      "execution_count": null,
      "outputs": []
    },
    {
      "cell_type": "code",
      "source": [
        "prepare_and_run_scadapt(\"/content/drive/MyDrive/data/bm_for_scnym.h5ad\", \"/content/drive/MyDrive/data/results_bm/\")\n",
        "prepare_and_run_scadapt(\"/content/drive/MyDrive/data/pancreas_for_scnym.h5ad\", \"/content/drive/MyDrive/data/results_pancreas/\")\n",
        "prepare_and_run_scadapt(\"/content/drive/MyDrive/data/brain_for_scnym.h5ad\", \"/content/drive/MyDrive/data/results_brain/\")"
      ],
      "metadata": {
        "id": "oJAZoxXF_MQi"
      },
      "execution_count": null,
      "outputs": []
    },
    {
      "cell_type": "code",
      "source": [
        "def prepare_and_run_scadapt_rev(PATH_in, PATH_out):\n",
        "  \n",
        "  adata = ad.read_h5ad(PATH_in)\n",
        "  del adata.uns\n",
        "  data_set = {'features': adata.X, 'labels': adata.obs[\"cell_type\"].to_numpy(dtype='int32'),\n",
        "              'accessions' : adata.obs[\"domain\"].to_numpy(dtype='str')}\n",
        "  args.source_name = \"1\"\n",
        "  args.target_name = \"0\"\n",
        "  args.dataset_path = PATH_out\n",
        "  args.result_path = PATH_out\n",
        "  args.num_iterations = 10000\n",
        "  scAdapt(args=args, data_set=data_set)\n",
        "\n",
        "  return"
      ],
      "metadata": {
        "id": "xcKlbqeRmj2V"
      },
      "execution_count": null,
      "outputs": []
    },
    {
      "cell_type": "code",
      "source": [
        "prepare_and_run_scadapt_rev(\"/content/drive/MyDrive/data/bm_for_scnym.h5ad\", \"/content/drive/MyDrive/data/results_bm/\")\n",
        "prepare_and_run_scadapt_rev(\"/content/drive/MyDrive/data/pancreas_for_scnym.h5ad\", \"/content/drive/MyDrive/data/results_pancreas/\")\n",
        "prepare_and_run_scadapt_rev(\"/content/drive/MyDrive/data/brain_for_scnym.h5ad\", \"/content/drive/MyDrive/data/results_brain/\")"
      ],
      "metadata": {
        "id": "ob3_2c_pnF73"
      },
      "execution_count": null,
      "outputs": []
    }
  ]
}