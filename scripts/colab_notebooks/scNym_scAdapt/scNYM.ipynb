{
  "nbformat": 4,
  "nbformat_minor": 0,
  "metadata": {
    "colab": {
      "provenance": [],
      "machine_shape": "hm"
    },
    "kernelspec": {
      "name": "python3",
      "display_name": "Python 3"
    },
    "language_info": {
      "name": "python"
    },
    "accelerator": "GPU"
  },
  "cells": [
    {
      "cell_type": "code",
      "source": [
        "!pip install scnym\n",
        "!pip install anndata==0.8.0"
      ],
      "metadata": {
        "id": "SBN5UcRDEZOh"
      },
      "execution_count": null,
      "outputs": []
    },
    {
      "cell_type": "code",
      "source": [
        "import pandas as pd\n",
        "import anndata as ad\n",
        "import scanpy as sc\n",
        "from itertools import combinations\n",
        "import numpy as np\n",
        "import scnym\n",
        "from sklearn.metrics import balanced_accuracy_score\n",
        "import warnings"
      ],
      "metadata": {
        "id": "f2HHhVEIzJqr"
      },
      "execution_count": null,
      "outputs": []
    },
    {
      "cell_type": "code",
      "source": [
        "from google.colab import drive\n",
        "drive.mount('/content/drive')"
      ],
      "metadata": {
        "id": "Q5cv0zeDjXrV"
      },
      "execution_count": null,
      "outputs": []
    },
    {
      "cell_type": "markdown",
      "source": [
        "Unsupervised training for scNym"
      ],
      "metadata": {
        "id": "GNlbI8aRlk5U"
      }
    },
    {
      "cell_type": "code",
      "source": [
        "def run_unsupervised(PATH_in, PATH_model, PATH_out):\n",
        "  adata = ad.read_h5ad(PATH_in)\n",
        "  adata.obs[\"label\"][adata.obs[\"domain\"]==1] = -9\n",
        "  CONFIGS[\"no_new_identity\"][\"weighted_class\"]=True\n",
        "  scnym.api.UNLABELED_TOKEN = -9\n",
        "  scnym.api.scnym_api(\n",
        "    adata=adata,\n",
        "    task=\"train\",\n",
        "    groupby=\"label\",\n",
        "    domain_groupby=\"domain\",\n",
        "    config = \"no_new_identity\",\n",
        "    out_path=PATH_model\n",
        "  )\n",
        "  scnym.api.scnym_api(\n",
        "    adata=adata,\n",
        "    task='predict',\n",
        "    groupby=\"label\",\n",
        "    domain_groupby=\"domain\",\n",
        "    trained_model=PATH_model,\n",
        "  )\n",
        "  df = pd.DataFrame.from_dict({\"y_true\" : adata.obs[\"cell_type\"][adata.obs[\"domain\"]==1],\n",
        "                               \"y_pred\" : adata.obs[\"scNym\"][adata.obs[\"domain\"]==1]})\n",
        "  df.to_csv(PATH_out)\n",
        "  return df"
      ],
      "metadata": {
        "id": "tEKXCSVFyb7M"
      },
      "execution_count": null,
      "outputs": []
    },
    {
      "cell_type": "code",
      "source": [
        "df_bm = run_unsupervised(\"/content/drive/MyDrive/data/bm_for_scnym.h5ad\",\n",
        "                         \"/content/drive/MyDrive/data/scnym_bm\",\n",
        "                         \"/content/drive/MyDrive/data/bm_scnym_all.csv\")\n",
        "df_pancreas = run_unsupervised(\"/content/drive/MyDrive/data/pancreas_for_scnym.h5ad\",\n",
        "                         \"/content/drive/MyDrive/data/scnym_pancreas\",\n",
        "                         \"/content/drive/MyDrive/data/pancreas_scnym_all.csv\")\n",
        "df_brain = run_unsupervised(\"/content/drive/MyDrive/data/brain_for_scnym.h5ad\",\n",
        "                         \"/content/drive/MyDrive/data/scnym_brain\",\n",
        "                         \"/content/drive/MyDrive/data/brain_scnym_all.csv\")"
      ],
      "metadata": {
        "id": "OqpC2_4H1u3F"
      },
      "execution_count": null,
      "outputs": []
    },
    {
      "cell_type": "code",
      "source": [
        "def run_unsupervised_rev(PATH_in, PATH_model, PATH_out):\n",
        "  adata = ad.read_h5ad(PATH_in)\n",
        "  adata.obs[\"label\"][adata.obs[\"domain\"]==0] = -9\n",
        "  CONFIGS[\"no_new_identity\"][\"weighted_class\"]=True\n",
        "  scnym.api.UNLABELED_TOKEN = -9\n",
        "  scnym.api.scnym_api(\n",
        "    adata=adata,\n",
        "    task=\"train\",\n",
        "    groupby=\"label\",\n",
        "    domain_groupby=\"domain\",\n",
        "    config = \"no_new_identity\",\n",
        "    out_path=PATH_model\n",
        "  )\n",
        "  scnym.api.scnym_api(\n",
        "    adata=adata,\n",
        "    task='predict',\n",
        "    groupby=\"label\",\n",
        "    domain_groupby=\"domain\",\n",
        "    trained_model=PATH_model,\n",
        "  )\n",
        "  df = pd.DataFrame.from_dict({\"y_true\" : adata.obs[\"cell_type\"][adata.obs[\"domain\"]==0],\n",
        "                               \"y_pred\" : adata.obs[\"scNym\"][adata.obs[\"domain\"]==0]})\n",
        "  df.to_csv(PATH_out)\n",
        "  return df"
      ],
      "metadata": {
        "id": "AVGD-BbvmNC0"
      },
      "execution_count": null,
      "outputs": []
    },
    {
      "cell_type": "code",
      "source": [
        "df_bm = run_unsupervised_rev(\"/content/drive/MyDrive/data/bm_for_scnym.h5ad\",\n",
        "                         \"/content/drive/MyDrive/data/scnym_bm\",\n",
        "                         \"/content/drive/MyDrive/data/bm_scnym_pred_rev.csv\")\n",
        "df_pancreas = run_unsupervised_rev(\"/content/drive/MyDrive/data/pancreas_for_scnym.h5ad\",\n",
        "                         \"/content/drive/MyDrive/data/scnym_pancreas\",\n",
        "                         \"/content/drive/MyDrive/data/pancreas_scnym_pred_rev.csv\")\n",
        "df_brain = run_unsupervised_rev(\"/content/drive/MyDrive/data/brain_for_scnym.h5ad\",\n",
        "                         \"/content/drive/MyDrive/data/scnym_brain\",\n",
        "                         \"/content/drive/MyDrive/data/brain_scnym_pred_rev.csv\")"
      ],
      "metadata": {
        "id": "ZxPweSUxmOz8"
      },
      "execution_count": null,
      "outputs": []
    }
  ]
}