{
 "cells": [
  {
   "cell_type": "markdown",
   "id": "53d715ae-3ff4-43aa-a104-f977cf4e0269",
   "metadata": {},
   "source": [
    "Preparation of Baron pancreas data set by https://github.com/iron-lion/scRNAseq-preprocessing-impact/tree/main/notebook"
   ]
  },
  {
   "cell_type": "code",
   "execution_count": 1,
   "id": "aae86e09-9ffb-412b-ab72-9136e6b53fb8",
   "metadata": {},
   "outputs": [],
   "source": [
    "import os\n",
    "import glob\n",
    "import sys\n",
    "import pandas as pd\n",
    "import numpy as np\n",
    "import random"
   ]
  },
  {
   "cell_type": "code",
   "execution_count": 11,
   "id": "7b34c6ef-38c8-4382-9f06-381601467109",
   "metadata": {},
   "outputs": [
    {
     "name": "stdout",
     "output_type": "stream",
     "text": [
      "(822, 14880)\n",
      "(1886, 14880)\n",
      "{'T_cell', 'delta', 'alpha', 'activated_stellate', 'ductal', 'beta', 'macrophage', 'schwann', 'endothelial', 'immune_other', 'B_cell', 'gamma', 'quiescent_stellate'}\n"
     ]
    }
   ],
   "source": [
    "file_list = glob.glob(\"dataset/pancreas/baron/RAW/*mouse*counts.csv\")\n",
    "total_data = pd.DataFrame()\n",
    "for ff in file_list:\n",
    "    data = pd.read_csv(ff, sep=',', index_col=0, header=0)\n",
    "    total_data = pd.concat([total_data, data])\n",
    "    print(total_data.shape)\n",
    "\n",
    "labels = total_data['assigned_cluster'].values.tolist()\n",
    "label_set = set(labels)\n",
    "print(label_set)\n",
    "\n",
    "total_data = total_data.iloc[:,2:]"
   ]
  },
  {
   "cell_type": "code",
   "execution_count": 12,
   "id": "c32bf8cf-a6da-4de5-a5b8-7ede23b7aa54",
   "metadata": {},
   "outputs": [],
   "source": [
    "baron_labels = []\n",
    "for x in labels:\n",
    "    try:\n",
    "        x=x.replace('T_cell', 't_cell')\n",
    "    except:\n",
    "        continue\n",
    "    try:\n",
    "        x=x.replace('B_cell', 'b_cell')\n",
    "    except:\n",
    "        continue\n",
    "\n",
    "    baron_labels.append(x)"
   ]
  },
  {
   "cell_type": "code",
   "execution_count": 13,
   "id": "04612fbf-973d-4ca1-9609-f48b889d69b9",
   "metadata": {},
   "outputs": [],
   "source": [
    "baron_total_data = total_data"
   ]
  },
  {
   "cell_type": "code",
   "execution_count": 14,
   "id": "ad669003-9580-45c7-963d-163bf2558277",
   "metadata": {},
   "outputs": [],
   "source": [
    "baron_total_data[\"label\"] = baron_labels\n",
    "baron_total_data.to_csv(\"dataset/pancreas/baron/baron_mouse_raw.csv\")"
   ]
  },
  {
   "cell_type": "code",
   "execution_count": 15,
   "id": "321a773b-11ad-411e-ba31-b05336a9505f",
   "metadata": {},
   "outputs": [
    {
     "name": "stdout",
     "output_type": "stream",
     "text": [
      "['dataset/pancreas/baron/RAW\\\\GSM2230757_human1_umifm_counts.csv', 'dataset/pancreas/baron/RAW\\\\GSM2230758_human2_umifm_counts.csv', 'dataset/pancreas/baron/RAW\\\\GSM2230759_human3_umifm_counts.csv', 'dataset/pancreas/baron/RAW\\\\GSM2230760_human4_umifm_counts.csv']\n",
      "(1937, 20127)\n",
      "(3661, 20127)\n",
      "(7266, 20127)\n",
      "(8569, 20127)\n",
      "{'delta', 'alpha', 'activated_stellate', 'ductal', 'beta', 'epsilon', 'macrophage', 'endothelial', 'schwann', 'mast', 't_cell', 'gamma', 'quiescent_stellate', 'acinar'}\n"
     ]
    }
   ],
   "source": [
    "file_list = glob.glob(\"dataset/pancreas/baron/RAW/*human*counts.csv\")\n",
    "print(file_list)\n",
    "total_data = pd.DataFrame()\n",
    "for ff in file_list:\n",
    "    data = pd.read_csv(ff, sep=',', index_col=0, header=0)\n",
    "    total_data = pd.concat([total_data, data])\n",
    "    print(total_data.shape)\n",
    "\n",
    "labels = total_data['assigned_cluster'].values.tolist()\n",
    "label_set = set(labels)\n",
    "print(label_set)\n",
    "\n",
    "total_data = total_data.iloc[:,2:]\n",
    "del(data)"
   ]
  },
  {
   "cell_type": "code",
   "execution_count": 16,
   "id": "f392546a-85c4-4d0e-bfd6-3161eed5fac9",
   "metadata": {},
   "outputs": [],
   "source": [
    "bk = total_data\n",
    "bk_lab = labels"
   ]
  },
  {
   "cell_type": "code",
   "execution_count": 17,
   "id": "1ed73153-284f-4486-94e3-9f289ae64e74",
   "metadata": {},
   "outputs": [],
   "source": [
    "bk[\"label\"] = bk_lab\n",
    "bk.to_csv(\"dataset/pancreas/baron/baron_human_raw.csv\")"
   ]
  }
 ],
 "metadata": {
  "kernelspec": {
   "display_name": "Python 3 (ipykernel)",
   "language": "python",
   "name": "python3"
  },
  "language_info": {
   "codemirror_mode": {
    "name": "ipython",
    "version": 3
   },
   "file_extension": ".py",
   "mimetype": "text/x-python",
   "name": "python",
   "nbconvert_exporter": "python",
   "pygments_lexer": "ipython3",
   "version": "3.10.5"
  }
 },
 "nbformat": 4,
 "nbformat_minor": 5
}
