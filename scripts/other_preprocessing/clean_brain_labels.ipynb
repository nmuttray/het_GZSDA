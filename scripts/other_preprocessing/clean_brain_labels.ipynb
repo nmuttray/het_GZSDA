{
 "cells": [
  {
   "cell_type": "markdown",
   "id": "8cdede9f-50f8-4614-a4da-f0d538855d17",
   "metadata": {},
   "source": [
    "Marks non-neural cell types, subgroups and harmonizes labels for brain data set"
   ]
  },
  {
   "cell_type": "code",
   "execution_count": 3,
   "id": "7b7ae265-d91d-41d8-b2e9-8b4371d861dd",
   "metadata": {},
   "outputs": [],
   "source": [
    "import pandas as pd\n",
    "from collections import Counter"
   ]
  },
  {
   "cell_type": "code",
   "execution_count": 15,
   "id": "9dbd7126-3051-4569-ac02-167d809141fe",
   "metadata": {},
   "outputs": [],
   "source": [
    "hum_label = pd.read_csv(\"dataset/brain/brain_human_labels.csv\", index_col=0)\n",
    "mouse_label = pd.read_csv(\"dataset/brain/brain_mouse_labels_het.csv\", index_col=0)"
   ]
  },
  {
   "cell_type": "code",
   "execution_count": 16,
   "id": "ffe4d74d-6183-4227-b196-88b79ef6fe08",
   "metadata": {},
   "outputs": [
    {
     "data": {
      "text/plain": [
       "Counter({'L6 CT': 455,\n",
       "         'Lamp5': 554,\n",
       "         'Pvalb': 949,\n",
       "         'Micro-PVM': 12,\n",
       "         'Sst': 746,\n",
       "         'L2/3 IT': 3074,\n",
       "         'L5 IT': 1721,\n",
       "         'Vip': 633,\n",
       "         'L6 IT': 228,\n",
       "         'Oligo': 359,\n",
       "         'L6b': 245,\n",
       "         'L5/6 NP': 180,\n",
       "         'L5 ET': 114,\n",
       "         'Sst Chodl': 9,\n",
       "         'Sncg': 123,\n",
       "         'Endo': 10,\n",
       "         'L6 IT Car3': 44,\n",
       "         'Astro': 73,\n",
       "         'OPC': 31,\n",
       "         'VLMC': 4})"
      ]
     },
     "execution_count": 16,
     "metadata": {},
     "output_type": "execute_result"
    }
   ],
   "source": [
    "Counter(hum_label[\"label\"])"
   ]
  },
  {
   "cell_type": "code",
   "execution_count": 17,
   "id": "0cb01fc6-bc61-488a-9ac1-1d0c0c15d973",
   "metadata": {},
   "outputs": [
    {
     "data": {
      "text/plain": [
       "Counter({'Sst': 850,\n",
       "         'Lamp5': 752,\n",
       "         'L4/5 IT CTX': 4296,\n",
       "         'L5 IT CTX': 1320,\n",
       "         'L6b CTX': 322,\n",
       "         'L6 CT CTX': 2876,\n",
       "         'L2/3 IT CTX': 1526,\n",
       "         'L6 IT CTX': 819,\n",
       "         'L5/6 NP CTX': 510,\n",
       "         'SMC-Peri': 4,\n",
       "         'Vip': 896,\n",
       "         'Pvalb': 605,\n",
       "         'Sncg': 267,\n",
       "         'Astro': 59,\n",
       "         'L2/3 IT PPP': 28,\n",
       "         'Sst Chodl': 48,\n",
       "         'Micro-PVM': 15,\n",
       "         'Oligo': 56,\n",
       "         'L5 PT CTX': 54,\n",
       "         'Car3': 83,\n",
       "         'Endo': 10})"
      ]
     },
     "execution_count": 17,
     "metadata": {},
     "output_type": "execute_result"
    }
   ],
   "source": [
    "Counter(mouse_label[\"label\"])"
   ]
  },
  {
   "cell_type": "code",
   "execution_count": 18,
   "id": "7fecaeae-c6a5-4576-a2ff-803dabd3b7e6",
   "metadata": {},
   "outputs": [],
   "source": [
    "new_labels = []\n",
    "for x in mouse_label[\"label\"]:\n",
    "    try:\n",
    "        x=x.replace('Astro', 'NN')\n",
    "    except:\n",
    "        continue\n",
    "    try:\n",
    "        x=x.replace('Micro-PVM', 'NN')\n",
    "    except:\n",
    "        continue\n",
    "    try:\n",
    "        x=x.replace('Oligo', 'NN')\n",
    "    except:\n",
    "        continue\n",
    "    try:\n",
    "        x=x.replace('Car3', 'sub')\n",
    "    except:\n",
    "        continue\n",
    "    try:\n",
    "        x=x.replace('Endo', 'NN')\n",
    "    except:\n",
    "        continue\n",
    "    try:\n",
    "        x=x.replace('Sst Chodl', 'sub')\n",
    "    except:\n",
    "        continue \n",
    "    try:\n",
    "        x=x.replace('L2/3 IT CTX', 'L2/3 IT')\n",
    "    except:\n",
    "        continue\n",
    "    try:\n",
    "        x=x.replace('L5 IT CTX', 'L5 IT')\n",
    "    except:\n",
    "        continue\n",
    "    try:\n",
    "        x=x.replace('L5/6 NP CTX', 'L5/6 NP')\n",
    "    except:\n",
    "        continue\n",
    "    try:\n",
    "        x=x.replace('L6 IT CTX', 'L6 IT')\n",
    "    except:\n",
    "        continue\n",
    "    try:\n",
    "        x=x.replace('L6 CT CTX', 'L6 CT')\n",
    "    except:\n",
    "        continue\n",
    "    try:\n",
    "        x=x.replace('L6b CTX', 'L6b')\n",
    "    except:\n",
    "        continue\n",
    "    new_labels.append(x)"
   ]
  },
  {
   "cell_type": "code",
   "execution_count": 22,
   "id": "43a266bd-40b6-44b6-abeb-6752a0791917",
   "metadata": {},
   "outputs": [],
   "source": [
    "mouse_label.to_csv(\"dataset/brain/brain_mouse_labels.csv\")"
   ]
  }
 ],
 "metadata": {
  "kernelspec": {
   "display_name": "Python 3 (ipykernel)",
   "language": "python",
   "name": "python3"
  },
  "language_info": {
   "codemirror_mode": {
    "name": "ipython",
    "version": 3
   },
   "file_extension": ".py",
   "mimetype": "text/x-python",
   "name": "python",
   "nbconvert_exporter": "python",
   "pygments_lexer": "ipython3",
   "version": "3.10.5"
  }
 },
 "nbformat": 4,
 "nbformat_minor": 5
}
